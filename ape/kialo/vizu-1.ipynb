{
 "cells": [
  {
   "cell_type": "code",
   "execution_count": 24,
   "metadata": {},
   "outputs": [],
   "source": [
    "import pandas as pd\n",
    "file_src = '../../data/kialoPairs.csv'"
   ]
  },
  {
   "cell_type": "code",
   "execution_count": 25,
   "metadata": {},
   "outputs": [
    {
     "data": {
      "text/html": [
       "<div>\n",
       "<style scoped>\n",
       "    .dataframe tbody tr th:only-of-type {\n",
       "        vertical-align: middle;\n",
       "    }\n",
       "\n",
       "    .dataframe tbody tr th {\n",
       "        vertical-align: top;\n",
       "    }\n",
       "\n",
       "    .dataframe thead th {\n",
       "        text-align: right;\n",
       "    }\n",
       "</style>\n",
       "<table border=\"1\" class=\"dataframe\">\n",
       "  <thead>\n",
       "    <tr style=\"text-align: right;\">\n",
       "      <th></th>\n",
       "      <th>topic</th>\n",
       "      <th>relation</th>\n",
       "      <th>argSrc</th>\n",
       "      <th>argTrg</th>\n",
       "    </tr>\n",
       "  </thead>\n",
       "  <tbody>\n",
       "    <tr>\n",
       "      <th>0</th>\n",
       "      <td>['Sports', 'USA', 'Football', 'American_Footba...</td>\n",
       "      <td>attack</td>\n",
       "      <td>The institution of American football alienates...</td>\n",
       "      <td>Football is very popular and a critical part o...</td>\n",
       "    </tr>\n",
       "    <tr>\n",
       "      <th>1</th>\n",
       "      <td>['Sports', 'USA', 'Football', 'American_Footba...</td>\n",
       "      <td>support</td>\n",
       "      <td>The institution of American football promotes ...</td>\n",
       "      <td>The institution of American football alienates...</td>\n",
       "    </tr>\n",
       "    <tr>\n",
       "      <th>2</th>\n",
       "      <td>['Sports', 'USA', 'Football', 'American_Footba...</td>\n",
       "      <td>support</td>\n",
       "      <td>American football promotes a form of masculini...</td>\n",
       "      <td>The institution of American football promotes ...</td>\n",
       "    </tr>\n",
       "    <tr>\n",
       "      <th>3</th>\n",
       "      <td>['Sports', 'USA', 'Football', 'American_Footba...</td>\n",
       "      <td>attack</td>\n",
       "      <td>Jim Harbaugh [2] and Rush Limbaugh [3] argue t...</td>\n",
       "      <td>American football promotes a form of masculini...</td>\n",
       "    </tr>\n",
       "    <tr>\n",
       "      <th>4</th>\n",
       "      <td>['Sports', 'USA', 'Football', 'American_Footba...</td>\n",
       "      <td>attack</td>\n",
       "      <td>A player formerly coached by Jim Harbauge [4] ...</td>\n",
       "      <td>Jim Harbaugh [2] and Rush Limbaugh [3] argue t...</td>\n",
       "    </tr>\n",
       "    <tr>\n",
       "      <th>...</th>\n",
       "      <td>...</td>\n",
       "      <td>...</td>\n",
       "      <td>...</td>\n",
       "      <td>...</td>\n",
       "    </tr>\n",
       "    <tr>\n",
       "      <th>53517</th>\n",
       "      <td>['Environment', 'Health', 'Policy', 'Government']</td>\n",
       "      <td>support</td>\n",
       "      <td>In 2020, 72.7% of the US population on communi...</td>\n",
       "      <td>Despite the available alternatives, fluoridati...</td>\n",
       "    </tr>\n",
       "    <tr>\n",
       "      <th>53518</th>\n",
       "      <td>['Environment', 'Health', 'Policy', 'Government']</td>\n",
       "      <td>support</td>\n",
       "      <td>Hong Kong and Singapore both have 100% of thei...</td>\n",
       "      <td>Despite the available alternatives, fluoridati...</td>\n",
       "    </tr>\n",
       "    <tr>\n",
       "      <th>53519</th>\n",
       "      <td>['Environment', 'Health', 'Policy', 'Government']</td>\n",
       "      <td>attack</td>\n",
       "      <td>Fluoridated water acts as a systemic preventiv...</td>\n",
       "      <td>Alternatives to fluoridated water and promotin...</td>\n",
       "    </tr>\n",
       "    <tr>\n",
       "      <th>53520</th>\n",
       "      <td>['Environment', 'Health', 'Policy', 'Government']</td>\n",
       "      <td>attack</td>\n",
       "      <td>Fluoridated water is considered as pharmacolog...</td>\n",
       "      <td>Fluoridated water acts as a systemic preventiv...</td>\n",
       "    </tr>\n",
       "    <tr>\n",
       "      <th>53521</th>\n",
       "      <td>['Environment', 'Health', 'Policy', 'Government']</td>\n",
       "      <td>support</td>\n",
       "      <td>Community water fluoridation is one of the mos...</td>\n",
       "      <td>Fluoridated water acts as a systemic preventiv...</td>\n",
       "    </tr>\n",
       "  </tbody>\n",
       "</table>\n",
       "<p>53522 rows × 4 columns</p>\n",
       "</div>"
      ],
      "text/plain": [
       "                                                   topic relation  \\\n",
       "0      ['Sports', 'USA', 'Football', 'American_Footba...   attack   \n",
       "1      ['Sports', 'USA', 'Football', 'American_Footba...  support   \n",
       "2      ['Sports', 'USA', 'Football', 'American_Footba...  support   \n",
       "3      ['Sports', 'USA', 'Football', 'American_Footba...   attack   \n",
       "4      ['Sports', 'USA', 'Football', 'American_Footba...   attack   \n",
       "...                                                  ...      ...   \n",
       "53517  ['Environment', 'Health', 'Policy', 'Government']  support   \n",
       "53518  ['Environment', 'Health', 'Policy', 'Government']  support   \n",
       "53519  ['Environment', 'Health', 'Policy', 'Government']   attack   \n",
       "53520  ['Environment', 'Health', 'Policy', 'Government']   attack   \n",
       "53521  ['Environment', 'Health', 'Policy', 'Government']  support   \n",
       "\n",
       "                                                  argSrc  \\\n",
       "0      The institution of American football alienates...   \n",
       "1      The institution of American football promotes ...   \n",
       "2      American football promotes a form of masculini...   \n",
       "3      Jim Harbaugh [2] and Rush Limbaugh [3] argue t...   \n",
       "4      A player formerly coached by Jim Harbauge [4] ...   \n",
       "...                                                  ...   \n",
       "53517  In 2020, 72.7% of the US population on communi...   \n",
       "53518  Hong Kong and Singapore both have 100% of thei...   \n",
       "53519  Fluoridated water acts as a systemic preventiv...   \n",
       "53520  Fluoridated water is considered as pharmacolog...   \n",
       "53521  Community water fluoridation is one of the mos...   \n",
       "\n",
       "                                                  argTrg  \n",
       "0      Football is very popular and a critical part o...  \n",
       "1      The institution of American football alienates...  \n",
       "2      The institution of American football promotes ...  \n",
       "3      American football promotes a form of masculini...  \n",
       "4      Jim Harbaugh [2] and Rush Limbaugh [3] argue t...  \n",
       "...                                                  ...  \n",
       "53517  Despite the available alternatives, fluoridati...  \n",
       "53518  Despite the available alternatives, fluoridati...  \n",
       "53519  Alternatives to fluoridated water and promotin...  \n",
       "53520  Fluoridated water acts as a systemic preventiv...  \n",
       "53521  Fluoridated water acts as a systemic preventiv...  \n",
       "\n",
       "[53522 rows x 4 columns]"
      ]
     },
     "execution_count": 25,
     "metadata": {},
     "output_type": "execute_result"
    }
   ],
   "source": [
    "mergedDf = pd.read_csv(file_src, index_col=0)\n",
    "mergedDf"
   ]
  },
  {
   "cell_type": "markdown",
   "metadata": {},
   "source": [
    "# By relation"
   ]
  },
  {
   "cell_type": "code",
   "execution_count": 26,
   "metadata": {},
   "outputs": [
    {
     "data": {
      "text/html": [
       "<div>\n",
       "<style scoped>\n",
       "    .dataframe tbody tr th:only-of-type {\n",
       "        vertical-align: middle;\n",
       "    }\n",
       "\n",
       "    .dataframe tbody tr th {\n",
       "        vertical-align: top;\n",
       "    }\n",
       "\n",
       "    .dataframe thead th {\n",
       "        text-align: right;\n",
       "    }\n",
       "</style>\n",
       "<table border=\"1\" class=\"dataframe\">\n",
       "  <thead>\n",
       "    <tr style=\"text-align: right;\">\n",
       "      <th></th>\n",
       "      <th>count</th>\n",
       "    </tr>\n",
       "    <tr>\n",
       "      <th>relation</th>\n",
       "      <th></th>\n",
       "    </tr>\n",
       "  </thead>\n",
       "  <tbody>\n",
       "    <tr>\n",
       "      <th>attack</th>\n",
       "      <td>27816</td>\n",
       "    </tr>\n",
       "    <tr>\n",
       "      <th>support</th>\n",
       "      <td>25706</td>\n",
       "    </tr>\n",
       "  </tbody>\n",
       "</table>\n",
       "</div>"
      ],
      "text/plain": [
       "          count\n",
       "relation       \n",
       "attack    27816\n",
       "support   25706"
      ]
     },
     "execution_count": 26,
     "metadata": {},
     "output_type": "execute_result"
    }
   ],
   "source": [
    "count = mergedDf.groupby('relation').count()\n",
    "count[\"count\"] = count[\"argSrc\"]\n",
    "count = count.drop(columns=[\"argSrc\", \"argTrg\", \"topic\"])\n",
    "\n",
    "count"
   ]
  },
  {
   "cell_type": "code",
   "execution_count": 27,
   "metadata": {},
   "outputs": [
    {
     "data": {
      "text/html": [
       "<div>\n",
       "<style scoped>\n",
       "    .dataframe tbody tr th:only-of-type {\n",
       "        vertical-align: middle;\n",
       "    }\n",
       "\n",
       "    .dataframe tbody tr th {\n",
       "        vertical-align: top;\n",
       "    }\n",
       "\n",
       "    .dataframe thead th {\n",
       "        text-align: right;\n",
       "    }\n",
       "</style>\n",
       "<table border=\"1\" class=\"dataframe\">\n",
       "  <thead>\n",
       "    <tr style=\"text-align: right;\">\n",
       "      <th>relation</th>\n",
       "      <th>attack</th>\n",
       "      <th>support</th>\n",
       "    </tr>\n",
       "  </thead>\n",
       "  <tbody>\n",
       "    <tr>\n",
       "      <th>count</th>\n",
       "      <td>27816</td>\n",
       "      <td>25706</td>\n",
       "    </tr>\n",
       "  </tbody>\n",
       "</table>\n",
       "</div>"
      ],
      "text/plain": [
       "relation  attack  support\n",
       "count      27816    25706"
      ]
     },
     "execution_count": 27,
     "metadata": {},
     "output_type": "execute_result"
    }
   ],
   "source": [
    "count.T"
   ]
  },
  {
   "cell_type": "code",
   "execution_count": 28,
   "metadata": {},
   "outputs": [
    {
     "data": {
      "text/plain": [
       "<Axes: >"
      ]
     },
     "execution_count": 28,
     "metadata": {},
     "output_type": "execute_result"
    },
    {
     "data": {
      "image/png": "[encoded data removed]",
      "text/plain": [
       "<Figure size 640x480 with 1 Axes>"
      ]
     },
     "metadata": {},
     "output_type": "display_data"
    }
   ],
   "source": [
    "count.T.plot(kind='bar', color=['tomato','lightblue','greenyellow'])"
   ]
  },
  {
   "cell_type": "code",
   "execution_count": 29,
   "metadata": {},
   "outputs": [
    {
     "data": {
      "text/plain": [
       "<Axes: >"
      ]
     },
     "execution_count": 29,
     "metadata": {},
     "output_type": "execute_result"
    },
    {
     "data": {
      "image/png": "[encoded data removed]",
      "text/plain": [
       "<Figure size 640x480 with 1 Axes>"
      ]
     },
     "metadata": {},
     "output_type": "display_data"
    }
   ],
   "source": [
    "count.T.plot(kind='bar', color=['tomato','lightblue','greenyellow'], stacked=True)"
   ]
  }
 ],
 "metadata": {
  "kernelspec": {
   "display_name": "Python 3",
   "language": "python",
   "name": "python3"
  },
  "language_info": {
   "codemirror_mode": {
    "name": "ipython",
    "version": 3
   },
   "file_extension": ".py",
   "mimetype": "text/x-python",
   "name": "python",
   "nbconvert_exporter": "python",
   "pygments_lexer": "ipython3",
   "version": "3.11.9"
  }
 },
 "nbformat": 4,
 "nbformat_minor": 2
}
